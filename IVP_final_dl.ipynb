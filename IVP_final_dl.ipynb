{
  "cells": [
    {
      "cell_type": "markdown",
      "metadata": {
        "id": "2_kJrF4s1S_F"
      },
      "source": [
        "# Brain Tumor recognition using DWT and CNN"
      ]
    },
    {
      "cell_type": "code",
      "execution_count": 22,
      "metadata": {
        "id": "t5PpcVJ-1Pmj"
      },
      "outputs": [
        {
          "data": {
            "text/plain": [
              "device(type='cuda')"
            ]
          },
          "execution_count": 22,
          "metadata": {},
          "output_type": "execute_result"
        }
      ],
      "source": [
        "import torch\n",
        "from torch import nn\n",
        "import numpy as np\n",
        "from PIL import Image\n",
        "import cv2\n",
        "import pywt\n",
        "from torchvision import transforms, datasets, models\n",
        "import os\n",
        "from torch.utils.data import Subset, ConcatDataset, random_split, DataLoader, WeightedRandomSampler\n",
        "import matplotlib.pyplot as plt\n",
        "\n",
        "device = torch.device(\"cuda\" if torch.cuda.is_available() else \"cpu\")\n",
        "device"
      ]
    },
    {
      "cell_type": "markdown",
      "metadata": {},
      "source": [
        "## Importing dataset"
      ]
    },
    {
      "cell_type": "code",
      "execution_count": 23,
      "metadata": {
        "colab": {
          "base_uri": "https://localhost:8080/"
        },
        "id": "Th3ggueQ39Kz",
        "outputId": "fa21ef24-6805-43f0-8fc6-43e1e46b6f37"
      },
      "outputs": [
        {
          "name": "stdout",
          "output_type": "stream",
          "text": [
            "/bin/bash: /home/ubuntu/.venv/bin/pip: /home/ubuntu/tihan/tihan_eir/venv_tihan/bin/python3: bad interpreter: No such file or directory\n"
          ]
        },
        {
          "name": "stdout",
          "output_type": "stream",
          "text": [
            "mkdir: cannot create directory ‘/home/ubuntu/.kaggle’: File exists\n",
            "cp: cannot stat 'kaggle.json': No such file or directory\n",
            "/bin/bash: /home/ubuntu/.venv/bin/kaggle: /home/ubuntu/tihan/tihan_eir/venv_tihan/bin/python3: bad interpreter: No such file or directory\n",
            "mkdir: cannot create directory ‘data’: File exists\n",
            "/bin/bash: /home/ubuntu/.venv/bin/kaggle: /home/ubuntu/tihan/tihan_eir/venv_tihan/bin/python3: bad interpreter: No such file or directory\n"
          ]
        }
      ],
      "source": [
        "# !pip install kaggle -q\n",
        "\n",
        "# !mkdir ~/.kaggle\n",
        "# !cp kaggle.json ~/.kaggle\n",
        "\n",
        "# !kaggle datasets download -d ahmedhamada0/brain-tumor-detection\n",
        "\n",
        "# !unzip -qo brain-tumor-detection.zip\n",
        "# !mkdir data\n",
        "# !cp -r yes data\n",
        "# !cp -r no data\n",
        "# !rm -r no\n",
        "# !rm -r yes\n",
        "\n",
        "\n",
        "# !kaggle datasets download -d navoneel/brain-mri-images-for-brain-tumor-detection\n",
        "# !unzip -qo brain-mri-images-for-brain-tumor-detection.zip\n",
        "# !rm -r no\n",
        "# !rm -r yes"
      ]
    },
    {
      "cell_type": "markdown",
      "metadata": {},
      "source": [
        "## Wavelet and preprocessing functions"
      ]
    },
    {
      "cell_type": "code",
      "execution_count": 24,
      "metadata": {
        "id": "ZEU09Fej1frh"
      },
      "outputs": [],
      "source": [
        "def haar_wavelet(img, wav_type='haar'):\n",
        "    img_arr = np.array(img)\n",
        "    coeffs = pywt.dwt2(img_arr, wav_type)\n",
        "    LL, (LH, HL, HH) = coeffs\n",
        "\n",
        "    feature_vector = np.stack((LL, LH, HL, HH), axis=-1).astype(np.float32)\n",
        "    return feature_vector\n",
        "\n",
        "def hist_equalize(image):\n",
        "    equalized_image = cv2.equalizeHist(np.array(image))\n",
        "    return Image.fromarray(equalized_image).convert('L')\n",
        "\n",
        "def hist_equalize_open(image):\n",
        "    image = np.array(image)\n",
        "    equalized_image = cv2.equalizeHist(image)\n",
        "    close_oper = cv2.morphologyEx(equalized_image, cv2.MORPH_OPEN, np.ones((5, 5), np.uint8))\n",
        "    return Image.fromarray(close_oper).convert('L')"
      ]
    },
    {
      "cell_type": "markdown",
      "metadata": {
        "id": "5VodoaRX-HMR"
      },
      "source": [
        "## Model and training function definition "
      ]
    },
    {
      "cell_type": "code",
      "execution_count": 29,
      "metadata": {
        "id": "q8dxuNDDu7Jv"
      },
      "outputs": [],
      "source": [
        "# model definition\n",
        "initial_model = models.resnet101(weights='DEFAULT')\n",
        "\n",
        "num_classes = 2\n",
        "initial_model.fc = nn.Linear(initial_model.fc.in_features, num_classes)\n",
        "initial_model.conv1 = nn.Conv2d(4, 64, kernel_size=(7, 7), stride=(2, 2), padding=(3, 3), bias=False)\n",
        "initial_model = initial_model.to(device)\n",
        "\n",
        "model = initial_model\n",
        "\n",
        "\n",
        "transform = transforms.Compose([\n",
        "        transforms.Resize((448, 448)),\n",
        "        transforms.Grayscale(),\n",
        "        transforms.Lambda(hist_equalize_open),\n",
        "        transforms.Lambda(haar_wavelet),\n",
        "        transforms.ToTensor(),\n",
        "        transforms.Normalize(mean=[71.7513, -0.0043, 0.002, -0.0003], std=[78.8939, 6.2766, 7.2413, 1.6252])\n",
        "    ])\n",
        "\n",
        "# training function\n",
        "def train(model, train_dataloader, test_dataloader, num_epochs=10, criterion=nn.CrossEntropyLoss(), lr=0.001, optimizer_type='Adam'):\n",
        "\n",
        "    optimizer_class = getattr(torch.optim, optimizer_type)\n",
        "    optimizer = optimizer_class(model.parameters(),lr=lr)\n",
        "    scheduler = torch.optim.lr_scheduler.StepLR(optimizer, step_size=2, gamma=0.5)\n",
        "\n",
        "\n",
        "    train_accuracy_arr = [accuracy(model, train_dataloader)]\n",
        "    \n",
        "    loss_arr = []\n",
        "    test_accuracy_arr = [accuracy(model, test_dataloader)]\n",
        "    for epoch in range(num_epochs):\n",
        "        model.train()\n",
        "        running_loss = 0.0\n",
        "\n",
        "        for inputs, labels in train_dataloader:\n",
        "            inputs, labels = inputs.to(device), labels.to(device)\n",
        "\n",
        "            optimizer.zero_grad()\n",
        "            outputs = model(inputs)\n",
        "            loss = criterion(outputs, labels)\n",
        "            loss.backward()\n",
        "            optimizer.step()\n",
        "\n",
        "            running_loss += loss.item() * inputs.size(0)\n",
        "        \n",
        "        scheduler.step()\n",
        "        # Print average loss per epoch\n",
        "        epoch_loss = running_loss / len(train_dataloader.dataset)\n",
        "        loss_arr.append(epoch_loss)\n",
        "        print(f'Epoch [{epoch+1}/{num_epochs}], Loss: {epoch_loss:.4f}')\n",
        "        train_accuracy_arr.append(accuracy(model, train_dataloader))\n",
        "        test_accuracy_arr.append(accuracy(model, test_dataloader))\n",
        "        print(test_accuracy_arr[-1])\n",
        "        print(train_accuracy_arr[-1])\n",
        "\n",
        "    return train_accuracy_arr, test_accuracy_arr, loss_arr\n",
        "\n",
        "\n",
        "# accuracy function\n",
        "def accuracy(model, data_loader):\n",
        "    model.eval()\n",
        "    correct = 0\n",
        "    total = 0\n",
        "\n",
        "    with torch.no_grad():\n",
        "        for images, labels in data_loader:\n",
        "            images, labels = images.to(device), labels.to(device)\n",
        "            outputs = model(images)\n",
        "            _, predicted = torch.max(outputs, 1)\n",
        "            total += labels.size(0)\n",
        "            correct += (predicted == labels).sum().item()\n",
        "\n",
        "    accuracy = 100 * correct / total\n",
        "    return accuracy\n",
        "\n",
        "def confusion_matrix(model, data_loader):\n",
        "\n",
        "    model.eval()\n",
        "    confusion_matrix = np.zeros((2, 2))\n",
        "\n",
        "    with torch.no_grad():\n",
        "        \n",
        "        for inputs, labels in data_loader:\n",
        "            inputs, labels = inputs.to(device), labels.to(device)\n",
        "            outputs = model(inputs)\n",
        "            _, predicted = torch.max(outputs, 1)\n",
        "\n",
        "            confusion_matrix[0][0] += torch.sum((predicted == 1) & (labels == 1)).item()\n",
        "            confusion_matrix[0][1] += torch.sum((predicted == 1) & (labels == 0)).item()\n",
        "            confusion_matrix[1][0] += torch.sum((predicted == 0) & (labels == 1)).item()\n",
        "            confusion_matrix[1][1] += torch.sum((predicted == 0) & (labels == 0)).item()\n",
        "\n",
        "    return confusion_matrix"
      ]
    },
    {
      "cell_type": "code",
      "execution_count": null,
      "metadata": {
        "colab": {
          "base_uri": "https://localhost:8080/",
          "height": 1000
        },
        "id": "EbyRRA-fvUGt",
        "outputId": "a1a73c74-aa84-4ead-989b-dff0277127bf"
      },
      "outputs": [],
      "source": [
        "augmentation_transform = transforms.Compose([\n",
        "        transforms.Resize((448, 448)),\n",
        "        transforms.Grayscale(),\n",
        "        transforms.Lambda(hist_equalize_open),\n",
        "        transforms.RandomAffine(degrees=0, translate=(0.2, 0)),\n",
        "        transforms.RandomAffine(degrees=0, translate=(0, 0.2)),\n",
        "        transforms.RandomAffine(degrees=0, shear=(0, 30)),\n",
        "        transforms.RandomAffine(degrees=0, scale=(0.8, 1.2)),\n",
        "        transforms.RandomHorizontalFlip(),\n",
        "        transforms.RandomRotation(30),\n",
        "        transforms.Lambda(hist_equalize_open),\n",
        "        transforms.Lambda(haar_wavelet),\n",
        "        transforms.ToTensor(),\n",
        "        transforms.Normalize(mean=[71.7513, -0.0043, 0.002, -0.0003], std=[78.8939, 6.2766, 7.2413, 1.6252])\n",
        "    ])\n",
        "\n",
        "\n",
        "train_data_dir = 'Training'\n",
        "test_data_dir = 'Testing'\n",
        "\n",
        "original_dataset = datasets.ImageFolder(root=train_data_dir, transform=transform)\n",
        "augmented_dataset = datasets.ImageFolder(root=train_data_dir, transform=augmentation_transform)\n",
        "\n",
        "num_augmented_samples = int(0.5 * len(augmented_dataset))\n",
        "indices = np.random.choice(range(len(augmented_dataset)), num_augmented_samples)\n",
        "\n",
        "augmented_subset = Subset(augmented_dataset, indices)\n",
        "\n",
        "train_dataset = ConcatDataset([original_dataset, augmented_subset])\n",
        "\n",
        "test_dataset = datasets.ImageFolder(root=test_data_dir, transform=transform)\n",
        "test_dataloader = DataLoader(test_dataset, batch_size=32, shuffle=True)\n",
        "\n",
        "train_dataset = datasets.ImageFolder(root=train_data_dir, transform=transform)\n",
        "class_counts = [0] * len(train_dataset.classes)\n",
        "for _, label in train_dataset.samples:\n",
        "    class_counts[label] += 1\n",
        "\n",
        "class_weights = [1 / count for count in class_counts]\n",
        "sampler = WeightedRandomSampler(class_weights, len(train_dataset), replacement=True)\n",
        "train_dataloader = DataLoader(train_dataset, batch_size=32, shuffle=True)\n",
        "\n",
        "\n",
        "output = train(model, train_dataloader, test_dataloader, num_epochs=10, criterion=nn.CrossEntropyLoss(), lr=0.001, optimizer_type='Adam')\n",
        "\n",
        "\n",
        "train_confusion_mat = confusion_matrix(model, train_dataloader)\n",
        "test_confusion_mat = confusion_matrix(model, test_dataloader)\n"
      ]
    },
    {
      "cell_type": "code",
      "execution_count": null,
      "metadata": {},
      "outputs": [],
      "source": [
        "np.savez('lists.npz', train_arr=output[0], test_arr=output[1], loss=output[2], train_conf=train_confusion_mat, test_conf=test_confusion_mat)"
      ]
    },
    {
      "cell_type": "markdown",
      "metadata": {},
      "source": [
        "## Results"
      ]
    },
    {
      "cell_type": "code",
      "execution_count": 2,
      "metadata": {},
      "outputs": [
        {
          "data": {
            "image/png": "[encoded data removed]",
            "text/plain": [
              "<Figure size 640x480 with 1 Axes>"
            ]
          },
          "metadata": {},
          "output_type": "display_data"
        },
        {
          "data": {
            "image/png": "[encoded data removed]",
            "text/plain": [
              "<Figure size 640x480 with 1 Axes>"
            ]
          },
          "metadata": {},
          "output_type": "display_data"
        },
        {
          "name": "stdout",
          "output_type": "stream",
          "text": [
            "Train Accuracy: 100.0\n",
            "Test Accuracy: 99.77116704805492\n",
            "Train:\n",
            "\n",
            "\trecall: 1.0\n",
            "\tprecision: 1.0\n",
            "\tf1-score: 1.0\n",
            "Test:\n",
            "\n",
            "\trecall: 1.0\n",
            "\tprecision: 0.9966887417218543\n",
            "\tf1-score: 0.9983416252072967\n"
          ]
        }
      ],
      "source": [
        "import numpy as np\n",
        "import matplotlib.pyplot as plt\n",
        "\n",
        "data2 = np.load('haar_histopen.npz')\n",
        "\n",
        "plt.plot(range(len(data2['train_arr'])), data2['train_arr'], label='Train Accuracy')\n",
        "plt.plot(range(len(data2['test_arr'])), data2['test_arr'], label='Test Accuracy')\n",
        "\n",
        "plt.xlabel('Epochs')\n",
        "plt.ylabel('Accuracy')\n",
        "plt.title('Train and Test Accuracies')\n",
        "plt.legend()\n",
        "plt.show()\n",
        "\n",
        "plt.plot(range(len(data2['loss'])), data2['loss'], label='Loss')\n",
        "plt.xlabel('Epochs')\n",
        "plt.ylabel('Loss')\n",
        "plt.title('Loss vs Epochs')\n",
        "plt.show()\n",
        "\n",
        "train_accuracy = data2['train_arr'][-1]\n",
        "test_accuracy = data2['test_arr'][-1]\n",
        "\n",
        "# Print the accuracies\n",
        "print(\"Train Accuracy:\", train_accuracy)\n",
        "print(\"Test Accuracy:\", test_accuracy)\n",
        "\n",
        "train_confusion_mat = data2['train_conf']\n",
        "test_confusion_mat = data2['test_conf']\n",
        "\n",
        "name = ['Train', 'Test']\n",
        "\n",
        "for i, confusion_mat in enumerate([train_confusion_mat, test_confusion_mat]):\n",
        "    print(f'{name[i]}:\\n')\n",
        "    recall = confusion_mat[0, 0] / (confusion_mat[0, 0] + confusion_mat[0, 1])\n",
        "    precision = confusion_mat[0, 0] / (confusion_mat[0, 0] + confusion_mat[1, 0])\n",
        "    print(f'\\trecall: {recall}')\n",
        "    print(f'\\tprecision: {precision}')\n",
        "    print(f'\\tf1-score: {(2 * precision * recall) / (precision + recall)}')"
      ]
    },
    {
      "cell_type": "code",
      "execution_count": null,
      "metadata": {
        "id": "gFrxOMLz5VR6"
      },
      "outputs": [],
      "source": [
        "torch.save(model.state_dict(), 'final_model4.pth')"
      ]
    }
  ],
  "metadata": {
    "accelerator": "GPU",
    "colab": {
      "gpuType": "T4",
      "provenance": []
    },
    "kernelspec": {
      "display_name": "Python 3",
      "name": "python3"
    },
    "language_info": {
      "codemirror_mode": {
        "name": "ipython",
        "version": 3
      },
      "file_extension": ".py",
      "mimetype": "text/x-python",
      "name": "python",
      "nbconvert_exporter": "python",
      "pygments_lexer": "ipython3",
      "version": "3.10.12"
    }
  },
  "nbformat": 4,
  "nbformat_minor": 0
}
